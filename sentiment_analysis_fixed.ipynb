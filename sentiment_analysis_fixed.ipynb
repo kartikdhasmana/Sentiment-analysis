{
 "cells": [
  {
   "cell_type": "code",
   "execution_count": 366,
   "id": "4d3e1a3d",
   "metadata": {},
   "outputs": [],
   "source": [
    "import pandas as pd \n",
    "data=pd.read_csv(r\"C:\\Users\\Kartik\\OneDrive\\Desktop\\Jupyter Notebook\\Machine Learning\\projects\\Sentiment Analysis\\tweets.csv\")"
   ]
  },
  {
   "cell_type": "code",
   "execution_count": 367,
   "id": "0f13309d",
   "metadata": {},
   "outputs": [
    {
     "data": {
      "text/html": [
       "<div>\n",
       "<style scoped>\n",
       "    .dataframe tbody tr th:only-of-type {\n",
       "        vertical-align: middle;\n",
       "    }\n",
       "\n",
       "    .dataframe tbody tr th {\n",
       "        vertical-align: top;\n",
       "    }\n",
       "\n",
       "    .dataframe thead th {\n",
       "        text-align: right;\n",
       "    }\n",
       "</style>\n",
       "<table border=\"1\" class=\"dataframe\">\n",
       "  <thead>\n",
       "    <tr style=\"text-align: right;\">\n",
       "      <th></th>\n",
       "      <th>id</th>\n",
       "      <th>label</th>\n",
       "      <th>tweet</th>\n",
       "    </tr>\n",
       "  </thead>\n",
       "  <tbody>\n",
       "    <tr>\n",
       "      <th>0</th>\n",
       "      <td>1</td>\n",
       "      <td>0</td>\n",
       "      <td>#fingerprint #Pregnancy Test https://goo.gl/h1...</td>\n",
       "    </tr>\n",
       "    <tr>\n",
       "      <th>1</th>\n",
       "      <td>2</td>\n",
       "      <td>0</td>\n",
       "      <td>Finally a transparant silicon case ^^ Thanks t...</td>\n",
       "    </tr>\n",
       "    <tr>\n",
       "      <th>2</th>\n",
       "      <td>3</td>\n",
       "      <td>0</td>\n",
       "      <td>We love this! Would you go? #talk #makememorie...</td>\n",
       "    </tr>\n",
       "    <tr>\n",
       "      <th>3</th>\n",
       "      <td>4</td>\n",
       "      <td>0</td>\n",
       "      <td>I'm wired I know I'm George I was made that wa...</td>\n",
       "    </tr>\n",
       "    <tr>\n",
       "      <th>4</th>\n",
       "      <td>5</td>\n",
       "      <td>1</td>\n",
       "      <td>What amazing service! Apple won't even talk to...</td>\n",
       "    </tr>\n",
       "  </tbody>\n",
       "</table>\n",
       "</div>"
      ],
      "text/plain": [
       "   id  label                                              tweet\n",
       "0   1      0  #fingerprint #Pregnancy Test https://goo.gl/h1...\n",
       "1   2      0  Finally a transparant silicon case ^^ Thanks t...\n",
       "2   3      0  We love this! Would you go? #talk #makememorie...\n",
       "3   4      0  I'm wired I know I'm George I was made that wa...\n",
       "4   5      1  What amazing service! Apple won't even talk to..."
      ]
     },
     "execution_count": 367,
     "metadata": {},
     "output_type": "execute_result"
    }
   ],
   "source": [
    "# viewing top 5 row and columns of data \n",
    "data.head()"
   ]
  },
  {
   "cell_type": "code",
   "execution_count": 368,
   "id": "e8e4af48",
   "metadata": {},
   "outputs": [
    {
     "name": "stdout",
     "output_type": "stream",
     "text": [
      "<class 'pandas.core.frame.DataFrame'>\n",
      "RangeIndex: 7920 entries, 0 to 7919\n",
      "Data columns (total 3 columns):\n",
      " #   Column  Non-Null Count  Dtype \n",
      "---  ------  --------------  ----- \n",
      " 0   id      7920 non-null   int64 \n",
      " 1   label   7920 non-null   int64 \n",
      " 2   tweet   7920 non-null   object\n",
      "dtypes: int64(2), object(1)\n",
      "memory usage: 185.8+ KB\n"
     ]
    }
   ],
   "source": [
    "data.info()"
   ]
  },
  {
   "cell_type": "code",
   "execution_count": 369,
   "id": "6477b825",
   "metadata": {},
   "outputs": [
    {
     "data": {
      "text/plain": [
       "id       0\n",
       "label    0\n",
       "tweet    0\n",
       "dtype: int64"
      ]
     },
     "execution_count": 369,
     "metadata": {},
     "output_type": "execute_result"
    }
   ],
   "source": [
    "data.isnull().sum()"
   ]
  },
  {
   "cell_type": "code",
   "execution_count": 370,
   "id": "aa1671de",
   "metadata": {},
   "outputs": [],
   "source": [
    "# there is no role of id in predicting tweets\n",
    "data.drop(['id'],axis=1,inplace=True)"
   ]
  },
  {
   "cell_type": "code",
   "execution_count": 371,
   "id": "40a956cd",
   "metadata": {},
   "outputs": [
    {
     "data": {
      "text/html": [
       "<div>\n",
       "<style scoped>\n",
       "    .dataframe tbody tr th:only-of-type {\n",
       "        vertical-align: middle;\n",
       "    }\n",
       "\n",
       "    .dataframe tbody tr th {\n",
       "        vertical-align: top;\n",
       "    }\n",
       "\n",
       "    .dataframe thead th {\n",
       "        text-align: right;\n",
       "    }\n",
       "</style>\n",
       "<table border=\"1\" class=\"dataframe\">\n",
       "  <thead>\n",
       "    <tr style=\"text-align: right;\">\n",
       "      <th></th>\n",
       "      <th>label</th>\n",
       "      <th>tweet</th>\n",
       "    </tr>\n",
       "  </thead>\n",
       "  <tbody>\n",
       "    <tr>\n",
       "      <th>0</th>\n",
       "      <td>0</td>\n",
       "      <td>#fingerprint #Pregnancy Test https://goo.gl/h1...</td>\n",
       "    </tr>\n",
       "    <tr>\n",
       "      <th>1</th>\n",
       "      <td>0</td>\n",
       "      <td>Finally a transparant silicon case ^^ Thanks t...</td>\n",
       "    </tr>\n",
       "    <tr>\n",
       "      <th>2</th>\n",
       "      <td>0</td>\n",
       "      <td>We love this! Would you go? #talk #makememorie...</td>\n",
       "    </tr>\n",
       "    <tr>\n",
       "      <th>3</th>\n",
       "      <td>0</td>\n",
       "      <td>I'm wired I know I'm George I was made that wa...</td>\n",
       "    </tr>\n",
       "    <tr>\n",
       "      <th>4</th>\n",
       "      <td>1</td>\n",
       "      <td>What amazing service! Apple won't even talk to...</td>\n",
       "    </tr>\n",
       "  </tbody>\n",
       "</table>\n",
       "</div>"
      ],
      "text/plain": [
       "   label                                              tweet\n",
       "0      0  #fingerprint #Pregnancy Test https://goo.gl/h1...\n",
       "1      0  Finally a transparant silicon case ^^ Thanks t...\n",
       "2      0  We love this! Would you go? #talk #makememorie...\n",
       "3      0  I'm wired I know I'm George I was made that wa...\n",
       "4      1  What amazing service! Apple won't even talk to..."
      ]
     },
     "execution_count": 371,
     "metadata": {},
     "output_type": "execute_result"
    }
   ],
   "source": [
    "data.head()"
   ]
  },
  {
   "cell_type": "code",
   "execution_count": 372,
   "id": "11e09213",
   "metadata": {},
   "outputs": [
    {
     "data": {
      "text/plain": [
       "7920"
      ]
     },
     "execution_count": 372,
     "metadata": {},
     "output_type": "execute_result"
    }
   ],
   "source": [
    "len(data)"
   ]
  },
  {
   "cell_type": "code",
   "execution_count": 373,
   "id": "8543e064",
   "metadata": {},
   "outputs": [
    {
     "data": {
      "text/plain": [
       "label\n",
       "0    0.744192\n",
       "1    0.255808\n",
       "Name: proportion, dtype: float64"
      ]
     },
     "execution_count": 373,
     "metadata": {},
     "output_type": "execute_result"
    }
   ],
   "source": [
    "data['label'].value_counts(normalize=True)"
   ]
  },
  {
   "cell_type": "code",
   "execution_count": 374,
   "id": "9a13f8cd",
   "metadata": {},
   "outputs": [
    {
     "data": {
      "text/plain": [
       "<Axes: xlabel='label'>"
      ]
     },
     "execution_count": 374,
     "metadata": {},
     "output_type": "execute_result"
    },
    {
     "data": {
      "image/png": "[encoded data removed]",
      "text/plain": [
       "<Figure size 640x480 with 1 Axes>"
      ]
     },
     "metadata": {},
     "output_type": "display_data"
    }
   ],
   "source": [
    "data['label'].value_counts().plot(kind=\"bar\")"
   ]
  },
  {
   "cell_type": "code",
   "execution_count": 375,
   "id": "e66dd03a",
   "metadata": {},
   "outputs": [],
   "source": [
    "import re  # importing regular expressions "
   ]
  },
  {
   "cell_type": "code",
   "execution_count": 376,
   "id": "0075296b",
   "metadata": {},
   "outputs": [
    {
     "data": {
      "text/plain": [
       "'Ha! Not heavy machinery but it does what I need it to. @Apple really dropped the ball with that design. #drinkyourhaterade'"
      ]
     },
     "execution_count": 376,
     "metadata": {},
     "output_type": "execute_result"
    }
   ],
   "source": [
    "data['tweet'][11]"
   ]
  },
  {
   "cell_type": "code",
   "execution_count": 377,
   "id": "01745ff7",
   "metadata": {},
   "outputs": [
    {
     "data": {
      "text/plain": [
       "'It is time for new wallpapers #phone #wallpapers #wall #screen #galaxy #samsung #app … https://www.instagram.com/p/BcsKTNNn51c/'"
      ]
     },
     "execution_count": 377,
     "metadata": {},
     "output_type": "execute_result"
    }
   ],
   "source": [
    "# substitue 's with is\n",
    "re.sub(r\"'s\\b\", \" is\", data['tweet'][24])"
   ]
  },
  {
   "cell_type": "code",
   "execution_count": 378,
   "id": "9eba6259",
   "metadata": {},
   "outputs": [
    {
     "data": {
      "text/plain": [
       "'Ha! Not heavy machinery but it does what I need it to. pple really dropped the ball with that design. #drinkyourhaterade'"
      ]
     },
     "execution_count": 378,
     "metadata": {},
     "output_type": "execute_result"
    }
   ],
   "source": [
    "# We'll retains only alphabets and numbers \n",
    "re.sub(\"@[A-Za-z0-9]\", \"\", data[\"tweet\"][11])"
   ]
  },
  {
   "cell_type": "code",
   "execution_count": 379,
   "id": "c51abdee",
   "metadata": {},
   "outputs": [],
   "source": [
    "# removing \"#\""
   ]
  },
  {
   "cell_type": "code",
   "execution_count": 380,
   "id": "d51f2105",
   "metadata": {},
   "outputs": [
    {
     "data": {
      "text/plain": [
       "'fingerprint Pregnancy Test https://goo.gl/h1MfQV android apps beautiful cute health igers iphoneonly iphonesia iphone'"
      ]
     },
     "execution_count": 380,
     "metadata": {},
     "output_type": "execute_result"
    }
   ],
   "source": [
    "re.sub(\"#\",\"\",data['tweet'][0])"
   ]
  },
  {
   "cell_type": "code",
   "execution_count": 381,
   "id": "254873ba",
   "metadata": {},
   "outputs": [
    {
     "name": "stderr",
     "output_type": "stream",
     "text": [
      "[nltk_data] Downloading package stopwords to\n",
      "[nltk_data]     C:\\Users\\Kartik/nltk_data...\n",
      "[nltk_data]   Package stopwords is already up-to-date!\n"
     ]
    },
    {
     "data": {
      "text/plain": [
       "True"
      ]
     },
     "execution_count": 381,
     "metadata": {},
     "output_type": "execute_result"
    }
   ],
   "source": [
    "import nltk\n",
    "nltk.download('stopwords')"
   ]
  },
  {
   "cell_type": "code",
   "execution_count": 382,
   "id": "91da1ecc",
   "metadata": {},
   "outputs": [
    {
     "name": "stdout",
     "output_type": "stream",
     "text": [
      "{\"mustn't\", \"he'd\", 'y', 'few', \"hasn't\", 'won', \"i'd\", 'at', 'him', 'other', 'why', 'such', 'we', 'have', 'into', 'a', 'than', 'about', 'their', 'over', 'wasn', 'i', 'ma', 'own', 'through', \"you'll\", \"aren't\", 'shouldn', 'does', 'all', 'do', 'here', 'his', 'myself', 'by', 'hers', 'that', 'where', \"you've\", 'weren', 'wouldn', 'under', 'more', \"you'd\", 'mightn', 'while', 'aren', 'them', 'they', 'some', 'out', 'above', 'couldn', 'ours', 'down', 'once', 'ourselves', 'to', 'same', 'd', 'been', 'until', 'will', 'again', 'you', 'as', 'who', 'yourselves', \"that'll\", \"she's\", 'further', 'haven', \"we've\", 'ain', \"should've\", \"they'll\", 'against', \"mightn't\", 'nor', 'up', \"it'd\", 'be', 'hadn', 'below', 'my', 'didn', 'had', 'me', \"we'd\", 'its', 'our', 'just', \"we'll\", \"he's\", 'most', 'those', 've', 'was', 'after', 'whom', 'themselves', 'hasn', 'too', 'am', 'between', 'are', \"they'd\", \"hadn't\", 'with', 'both', 'only', 're', 'yours', 'because', 'off', 'very', \"wouldn't\", \"he'll\", \"didn't\", \"they've\", \"she'd\", \"we're\", 'she', 'is', 's', 'were', \"it'll\", \"shan't\", 'before', 'an', 'it', 'll', 'theirs', 'don', 'mustn', \"wasn't\", 'what', 'so', \"haven't\", \"i've\", 'can', 'these', 'in', 'your', 'for', 't', 'should', \"needn't\", \"couldn't\", 'there', \"won't\", \"they're\", 'when', 'but', 'of', 'from', \"doesn't\", \"she'll\", 'doesn', 'himself', \"i'll\", 'm', 'each', \"weren't\", 'this', 'doing', 'yourself', \"isn't\", 'isn', 'not', 'the', 'which', 'or', 'during', 'has', 'did', 'itself', 'needn', 'how', 'o', 'being', \"shouldn't\", 'having', 'any', 'if', 'now', 'and', 'he', 'on', 'no', \"it's\", \"you're\", 'her', 'shan', 'then', \"i'm\", \"don't\", 'herself'}\n",
      "\n",
      "length of stop words using nltk lib is:198\n"
     ]
    }
   ],
   "source": [
    "from nltk.corpus import stopwords\n",
    "# Get the list of stopwords for a specific language (e.g., English)\n",
    "stop_words_nltk = set(stopwords.words('english'))\n",
    "print(stop_words_nltk)\n",
    "print()\n",
    "print(f\"length of stop words using nltk lib is:{len(stop_words_nltk)}\")"
   ]
  },
  {
   "cell_type": "code",
   "execution_count": 383,
   "id": "5f6d9c8c",
   "metadata": {},
   "outputs": [
    {
     "name": "stdout",
     "output_type": "stream",
     "text": [
      "['become', 'top', 'why', 'first', 'beyond', 'becomes', 'already', 'do', 'except', 'his', 'many', 'somehow', 'sometime', 'by', 'get', 'eight', 'take', 'call', 'put', 'some', 'find', 'ourselves', 'show', 'to', 'sixty', 'been', 'until', 'third', 'well', 'former', 'as', 'yourselves', 'across', 'further', 'mostly', 'nor', 'whereupon', 'three', 'be', 'below', 'my', 'our', 'too', 'eleven', 'are', 'beforehand', 'yet', 're', 'yours', 'because', 'done', 'is', 'might', 'others', 'since', 'would', 'in', 'serious', 'thereby', 'your', 'of', 'from', 'himself', 'each', 'became', 'thin', 'keep', 'during', 'how', 'full', 'now', 'he', 'forty', 'someone', 'on', 'her', 'them', 'per', 'will', 'few', 'alone', 'cant', 'at', 'him', 'we', 'have', 'a', 'one', 'about', 'rather', 'etc', 'through', 'all', 'here', 'besides', 'hers', 'mill', 'while', 'side', 'anyway', 'whence', 'hereafter', 'above', 'give', 'always', 'everywhere', 'mine', 'whether', 'back', 'toward', 'up', 'hereby', 'had', 'most', 'move', 'those', 'latterly', 'after', 'nobody', 'towards', 'whom', 'empty', 'much', 'am', 'even', 'front', 'almost', 'two', 'very', 'she', 'therein', 'were', 'eg', 'whose', 'can', 'us', 'for', 'whatever', 'however', 'yourself', 'the', 'several', 'around', 'via', 'latter', 'and', 'un', 'anything', 'cannot', 'system', 'such', 'than', 'their', 'over', 'i', 'upon', 'own', 'must', 'myself', 'whereas', 'becoming', 'under', 'somewhere', 'may', 'meanwhile', 'they', 'same', 'also', 'again', 'due', 'who', 'con', 'fifty', 'hundred', 'though', 'made', 'something', 'afterwards', 'me', 'its', 'fire', 'often', 'sometimes', 'wherein', 'was', 'themselves', 'next', 'between', 'anyhow', 'none', 'nevertheless', 'noone', 'whereby', 'with', 'both', 'without', 'although', 'off', 'thence', 'inc', 'detail', 'nothing', 'five', 'thick', 'before', 'part', 'twenty', 'whither', 'whereafter', 'therefore', 'ie', 'sincere', 'thereafter', 'these', 'moreover', 'thereupon', 'otherwise', 'amount', 'there', 'least', 'when', 'whenever', 'every', 'indeed', 'which', 'or', 'has', 'itself', 'being', 'seems', 'if', 'ten', 'four', 'fill', 'then', 'couldnt', 'formerly', 'see', 'less', 'de', 'other', 'into', 'ltd', 'neither', 'hasnt', 'within', 'whoever', 'herein', 'that', 'else', 'where', 'more', 'fifteen', 'nowhere', 'out', 'anywhere', 'ours', 'down', 'among', 'once', 'describe', 'you', 'thus', 'seeming', 'either', 'never', 'against', 'six', 'whole', 'elsewhere', 'amongst', 'seemed', 'still', 'interest', 'enough', 'cry', 'only', 'along', 'thru', 'hence', 'found', 'an', 'perhaps', 'nine', 'it', 'bill', 'please', 'so', 'wherever', 'everything', 'throughout', 'another', 'name', 'anyone', 'hereupon', 'co', 'should', 'last', 'behind', 'but', 'twelve', 'seem', 'this', 'not', 'could', 'ever', 'go', 'amoungst', 'any', 'everyone', 'bottom', 'onto', 'namely', 'beside', 'no', 'together', 'what', 'herself']\n",
      "\n",
      "length of stop words using sklearn lib is:318\n"
     ]
    }
   ],
   "source": [
    "# removing sstopwords using sklearn \n",
    "from sklearn.feature_extraction.text import ENGLISH_STOP_WORDS\n",
    "stop_words_sklearn=list(ENGLISH_STOP_WORDS)\n",
    "print(stop_words_sklearn)\n",
    "print()\n",
    "print(f\"length of stop words using sklearn lib is:{len(stop_words_sklearn)}\")"
   ]
  },
  {
   "cell_type": "code",
   "execution_count": 384,
   "id": "964da615",
   "metadata": {},
   "outputs": [
    {
     "data": {
      "text/plain": [
       "397"
      ]
     },
     "execution_count": 384,
     "metadata": {},
     "output_type": "execute_result"
    }
   ],
   "source": [
    "# Combine both sets of stop words\n",
    "combined_stopwords = stop_words_nltk.union(stop_words_sklearn)\n",
    "len(combined_stopwords)"
   ]
  },
  {
   "cell_type": "code",
   "execution_count": 385,
   "id": "c3bf7624",
   "metadata": {},
   "outputs": [],
   "source": [
    "from nltk.stem import WordNetLemmatizer\n",
    "lemmatizer=WordNetLemmatizer()"
   ]
  },
  {
   "cell_type": "code",
   "execution_count": 386,
   "id": "3c360d8b",
   "metadata": {},
   "outputs": [
    {
     "name": "stderr",
     "output_type": "stream",
     "text": [
      "[nltk_data] Downloading package wordnet to\n",
      "[nltk_data]     C:\\Users\\Kartik/nltk_data...\n",
      "[nltk_data]   Package wordnet is already up-to-date!\n"
     ]
    },
    {
     "data": {
      "text/plain": [
       "True"
      ]
     },
     "execution_count": 386,
     "metadata": {},
     "output_type": "execute_result"
    }
   ],
   "source": [
    "nltk.download('wordnet')"
   ]
  },
  {
   "cell_type": "code",
   "execution_count": 387,
   "id": "a4a1045f",
   "metadata": {},
   "outputs": [
    {
     "data": {
      "text/plain": [
       "['Gain',\n",
       " 'Followers',\n",
       " 'RT',\n",
       " 'This',\n",
       " 'MUST',\n",
       " 'FOLLOW',\n",
       " 'ME',\n",
       " 'I',\n",
       " 'FOLLOW',\n",
       " 'BACK',\n",
       " 'Follow',\n",
       " 'everyone',\n",
       " 'who',\n",
       " 'rts',\n",
       " 'Gain',\n",
       " '#iphone',\n",
       " '#sougofollow',\n",
       " '#ff',\n",
       " 'i7si']"
      ]
     },
     "execution_count": 387,
     "metadata": {},
     "output_type": "execute_result"
    }
   ],
   "source": [
    "data['tweet'][63].split()"
   ]
  },
  {
   "cell_type": "code",
   "execution_count": 388,
   "id": "510b78fb",
   "metadata": {},
   "outputs": [
    {
     "name": "stdout",
     "output_type": "stream",
     "text": [
      "gain followers rt this must follow me i follow back follow everyone who rts gain #iphone #sougofollow #ff i7si\n"
     ]
    }
   ],
   "source": [
    "lemmatized_word= lemmatizer.lemmatize(data['tweet'][63], pos='v')  # 'v' is for verb; use appropriate POS tag\n",
    "print(lemmatized_word.lower()) "
   ]
  },
  {
   "cell_type": "code",
   "execution_count": 389,
   "id": "1aa014e2",
   "metadata": {},
   "outputs": [],
   "source": [
    "import contractions"
   ]
  },
  {
   "cell_type": "code",
   "execution_count": 390,
   "id": "209f13e2",
   "metadata": {},
   "outputs": [
    {
     "data": {
      "text/plain": [
       "\"It's time for new wallpapers #phone #wallpapers #wall #screen #galaxy #samsung #app … https://www.instagram.com/p/BcsKTNNn51c/\""
      ]
     },
     "execution_count": 390,
     "metadata": {},
     "output_type": "execute_result"
    }
   ],
   "source": [
    "data['tweet'][24]"
   ]
  },
  {
   "cell_type": "code",
   "execution_count": 391,
   "id": "1cb64065",
   "metadata": {},
   "outputs": [
    {
     "data": {
      "text/plain": [
       "'It is time for new wallpapers #phone #wallpapers #wall #screen #galaxy #samsung #app … https://www.instagram.com/p/BcsKTNNn51c/'"
      ]
     },
     "execution_count": 391,
     "metadata": {},
     "output_type": "execute_result"
    }
   ],
   "source": [
    "contracted=contractions.fix(data['tweet'][24])\n",
    "contracted"
   ]
  },
  {
   "cell_type": "code",
   "execution_count": 392,
   "id": "5c19bd00",
   "metadata": {},
   "outputs": [],
   "source": [
    "import re"
   ]
  },
  {
   "cell_type": "code",
   "execution_count": 393,
   "id": "9f2963ee",
   "metadata": {},
   "outputs": [],
   "source": [
    "def tweet_cleaner_without_stopwords(text):\n",
    "    new_text=re.sub(r\"'s\\b'\",\" is\",text)\n",
    "    new_text=re.sub(\"@[A-Za-z0-9]\", \"\",new_text)\n",
    "    new_text=re.sub(\"#\",\"\",new_text)\n",
    "    new_text=re.sub(r\"http\\S+\", \"\", new_text)\n",
    "    new_text=contractions.fix(new_text)\n",
    "    # Convert to lowercase and split into tokens\n",
    "    new_text = new_text.lower().strip()\n",
    "  \n",
    "\n",
    "    cleaned_text=\"\"\n",
    "    for tokens in new_text.split():\n",
    "        cleaned_text=cleaned_text+lemmatizer.lemmatize(tokens)+\" \"\n",
    "\n",
    "    return cleaned_text"
   ]
  },
  {
   "cell_type": "code",
   "execution_count": 394,
   "id": "3ba62dbd",
   "metadata": {},
   "outputs": [],
   "source": [
    "cleaned_tweets = []  # list of cleaned tweets\n",
    "for twt in data['tweet']:\n",
    "    cleaned_tweets.append(tweet_cleaner_without_stopwords(twt))"
   ]
  },
  {
   "cell_type": "code",
   "execution_count": 395,
   "id": "431951d5",
   "metadata": {},
   "outputs": [
    {
     "data": {
      "text/plain": [
       "['fingerprint pregnancy test android apps beautiful cute health igers iphoneonly iphonesia iphone ',\n",
       " 'finally a transparant silicon case ^^ thanks to my uncle :) yay sony xperia s sonyexperias… ',\n",
       " 'we love this! would you go? talk makememories unplug relax iphone smartphone wifi connect... ',\n",
       " 'i am wired i know i am george i wa made that way ;) iphone cute daventry home ',\n",
       " 'what amazing service! apple will not even talk to me about a question i have unless i pay them $19.95 for their stupid support! ']"
      ]
     },
     "execution_count": 395,
     "metadata": {},
     "output_type": "execute_result"
    }
   ],
   "source": [
    "cleaned_tweets[:5]"
   ]
  },
  {
   "cell_type": "code",
   "execution_count": 396,
   "id": "3f14970b",
   "metadata": {},
   "outputs": [],
   "source": [
    "data[\"tweet_cleaner_without_stopwords\"]=cleaned_tweets"
   ]
  },
  {
   "cell_type": "code",
   "execution_count": 397,
   "id": "44b6fc92",
   "metadata": {},
   "outputs": [
    {
     "name": "stdout",
     "output_type": "stream",
     "text": [
      "Normal tweets                :iPhone software update fucked up my phone big time Stupid iPhones\n",
      "\n",
      "tweet_cleaner_with_stopwords :iphone software update fucked up my phone big time stupid iphones \n"
     ]
    }
   ],
   "source": [
    " print(f\"Normal tweets                :{data[\"tweet\"][5]}\")\n",
    "print()\n",
    "print(f\"tweet_cleaner_with_stopwords :{data[\"tweet_cleaner_without_stopwords\"][5]}\")"
   ]
  },
  {
   "cell_type": "code",
   "execution_count": null,
   "id": "b23f84ab",
   "metadata": {},
   "outputs": [],
   "source": []
  },
  {
   "cell_type": "code",
   "execution_count": 398,
   "id": "60de987e",
   "metadata": {},
   "outputs": [],
   "source": [
    "def tweet_cleaner_with_stopwords(text):\n",
    "    new_text = re.sub(r\"'s\\b\", \" is\", text)\n",
    "    new_text = re.sub(\"#\", \"\", new_text)\n",
    "    new_text = re.sub(\"@[A-Za-z0-9]+\", \"\", new_text)\n",
    "    new_text = re.sub(r\"http\\S+\", \"\", new_text)\n",
    "    new_text = contractions.fix(new_text)    \n",
    "    new_text = re.sub(r\"[^a-zA-Z]\", \" \", new_text)    \n",
    "   \n",
    "    new_text = new_text.lower().strip()\n",
    "    new_text = [token for token in new_text.split() if token not in combined_stopwords]\n",
    "    \n",
    "    new_text = [token for token in new_text if len(token)>2]\n",
    "    \n",
    "    \n",
    "    \n",
    "    cleaned_text = ''\n",
    "    for tokens in new_text:\n",
    "        cleaned_text = cleaned_text + lemmatizer.lemmatize(tokens) + ' '\n",
    "    \n",
    "    return cleaned_text"
   ]
  },
  {
   "cell_type": "code",
   "execution_count": 399,
   "id": "42d60464",
   "metadata": {},
   "outputs": [
    {
     "name": "stdout",
     "output_type": "stream",
     "text": [
      "['fingerprint pregnancy test android apps beautiful cute health igers iphoneonly iphonesia iphone ', 'finally transparant silicon case thanks uncle yay sony xperia sonyexperias ', 'love talk makememories unplug relax iphone smartphone wifi connect ', 'wired know george way iphone cute daventry home ', 'amazing service apple talk question unless pay stupid support ', 'iphone software update fucked phone big time stupid iphones ', 'happy instapic instadaily sony xperia xperiaz ', 'new type charger cable bay amazon etsy new year rob cross toby young evemun mcmafia taylor spectre newyear starting recipe technology samsunggalaxys iphonex pic twitter com pjiwq wtc ', 'bout shopping listening music iphone justme music likeforlike followforfollow ', 'photo fun selfie pool water sony camera picoftheday sun instagood boy cute outdoor ']\n"
     ]
    }
   ],
   "source": [
    "cleaned_tweets = list(data['tweet'].apply(tweet_cleaner_with_stopwords))\n",
    "print(cleaned_tweets[:10])"
   ]
  },
  {
   "cell_type": "code",
   "execution_count": 400,
   "id": "7de97653",
   "metadata": {},
   "outputs": [
    {
     "data": {
      "text/plain": [
       "Index(['label', 'tweet', 'tweet_cleaner_without_stopwords'], dtype='object')"
      ]
     },
     "execution_count": 400,
     "metadata": {},
     "output_type": "execute_result"
    }
   ],
   "source": [
    "data.columns"
   ]
  },
  {
   "cell_type": "code",
   "execution_count": 401,
   "id": "95c368e3",
   "metadata": {},
   "outputs": [],
   "source": [
    "data[\"tweet_cleaner_with_stopwords\"]=cleaned_tweets"
   ]
  },
  {
   "cell_type": "code",
   "execution_count": 402,
   "id": "951380cf",
   "metadata": {},
   "outputs": [
    {
     "data": {
      "text/html": [
       "<div>\n",
       "<style scoped>\n",
       "    .dataframe tbody tr th:only-of-type {\n",
       "        vertical-align: middle;\n",
       "    }\n",
       "\n",
       "    .dataframe tbody tr th {\n",
       "        vertical-align: top;\n",
       "    }\n",
       "\n",
       "    .dataframe thead th {\n",
       "        text-align: right;\n",
       "    }\n",
       "</style>\n",
       "<table border=\"1\" class=\"dataframe\">\n",
       "  <thead>\n",
       "    <tr style=\"text-align: right;\">\n",
       "      <th></th>\n",
       "      <th>label</th>\n",
       "      <th>tweet</th>\n",
       "      <th>tweet_cleaner_without_stopwords</th>\n",
       "      <th>tweet_cleaner_with_stopwords</th>\n",
       "    </tr>\n",
       "  </thead>\n",
       "  <tbody>\n",
       "    <tr>\n",
       "      <th>0</th>\n",
       "      <td>0</td>\n",
       "      <td>#fingerprint #Pregnancy Test https://goo.gl/h1...</td>\n",
       "      <td>fingerprint pregnancy test android apps beauti...</td>\n",
       "      <td>fingerprint pregnancy test android apps beauti...</td>\n",
       "    </tr>\n",
       "    <tr>\n",
       "      <th>1</th>\n",
       "      <td>0</td>\n",
       "      <td>Finally a transparant silicon case ^^ Thanks t...</td>\n",
       "      <td>finally a transparant silicon case ^^ thanks t...</td>\n",
       "      <td>finally transparant silicon case thanks uncle ...</td>\n",
       "    </tr>\n",
       "    <tr>\n",
       "      <th>2</th>\n",
       "      <td>0</td>\n",
       "      <td>We love this! Would you go? #talk #makememorie...</td>\n",
       "      <td>we love this! would you go? talk makememories ...</td>\n",
       "      <td>love talk makememories unplug relax iphone sma...</td>\n",
       "    </tr>\n",
       "    <tr>\n",
       "      <th>3</th>\n",
       "      <td>0</td>\n",
       "      <td>I'm wired I know I'm George I was made that wa...</td>\n",
       "      <td>i am wired i know i am george i wa made that w...</td>\n",
       "      <td>wired know george way iphone cute daventry home</td>\n",
       "    </tr>\n",
       "    <tr>\n",
       "      <th>4</th>\n",
       "      <td>1</td>\n",
       "      <td>What amazing service! Apple won't even talk to...</td>\n",
       "      <td>what amazing service! apple will not even talk...</td>\n",
       "      <td>amazing service apple talk question unless pay...</td>\n",
       "    </tr>\n",
       "  </tbody>\n",
       "</table>\n",
       "</div>"
      ],
      "text/plain": [
       "   label                                              tweet  \\\n",
       "0      0  #fingerprint #Pregnancy Test https://goo.gl/h1...   \n",
       "1      0  Finally a transparant silicon case ^^ Thanks t...   \n",
       "2      0  We love this! Would you go? #talk #makememorie...   \n",
       "3      0  I'm wired I know I'm George I was made that wa...   \n",
       "4      1  What amazing service! Apple won't even talk to...   \n",
       "\n",
       "                     tweet_cleaner_without_stopwords  \\\n",
       "0  fingerprint pregnancy test android apps beauti...   \n",
       "1  finally a transparant silicon case ^^ thanks t...   \n",
       "2  we love this! would you go? talk makememories ...   \n",
       "3  i am wired i know i am george i wa made that w...   \n",
       "4  what amazing service! apple will not even talk...   \n",
       "\n",
       "                        tweet_cleaner_with_stopwords  \n",
       "0  fingerprint pregnancy test android apps beauti...  \n",
       "1  finally transparant silicon case thanks uncle ...  \n",
       "2  love talk makememories unplug relax iphone sma...  \n",
       "3   wired know george way iphone cute daventry home   \n",
       "4  amazing service apple talk question unless pay...  "
      ]
     },
     "execution_count": 402,
     "metadata": {},
     "output_type": "execute_result"
    }
   ],
   "source": [
    "data.head()"
   ]
  },
  {
   "cell_type": "code",
   "execution_count": 403,
   "id": "6245f431",
   "metadata": {},
   "outputs": [
    {
     "data": {
      "text/plain": [
       "list"
      ]
     },
     "execution_count": 403,
     "metadata": {},
     "output_type": "execute_result"
    }
   ],
   "source": [
    " domain_stopwords = ['phone', 'mobile', 'twitter', 'rt', 'com', 'follow']\n",
    " final_stopwords = domain_stopwords + list(combined_stopwords)\n",
    " type(final_stopwords)"
   ]
  },
  {
   "cell_type": "code",
   "execution_count": 404,
   "id": "8db0a9c1",
   "metadata": {},
   "outputs": [],
   "source": [
    "\n",
    "def tweet_cleaner_with_final_stopwords(text):\n",
    "    new_text = re.sub(r\"'s\\b\", \" is\", text)  # Expanding contractions\n",
    "    new_text = re.sub(\"#\", \"\", new_text)  # Removing hashtags\n",
    "    new_text = re.sub(\"@[A-Za-z0-9]+\", \"\", new_text)  # Removing mentions\n",
    "    new_text = re.sub(r\"http\\S+\", \"\", new_text)  # Removing URLs\n",
    "    new_text = contractions.fix(new_text)  # Expanding other contractions\n",
    "    \n",
    "    # Keep negations by modifying stopword removal\n",
    "    negations = {\"not\", \"no\", \"never\", \"don't\", \"isn't\", \"wasn't\", \"aren't\", \"weren't\", \"won't\", \"can't\", \"shouldn't\"}\n",
    "    new_text_tokens = new_text.lower().strip().split()\n",
    "    filtered_tokens = [token for token in new_text_tokens if token not in final_stopwords or token in negations]\n",
    "    \n",
    "    # Retain punctuation that affects sentiment (e.g., \"!!\" or \"?\")\n",
    "    cleaned_text = \" \".join(filtered_tokens)\n",
    "    \n",
    "    # Lemmatization\n",
    "    cleaned_text = \" \".join([lemmatizer.lemmatize(token) for token in cleaned_text.split()])\n",
    "    \n",
    "    return cleaned_text\n"
   ]
  },
  {
   "cell_type": "code",
   "execution_count": 405,
   "id": "93229955",
   "metadata": {},
   "outputs": [
    {
     "name": "stdout",
     "output_type": "stream",
     "text": [
      "['fingerprint pregnancy test android apps beautiful cute health igers iphoneonly iphonesia iphone', 'finally transparant silicon case ^^ thanks uncle :) yay sony xperia sonyexperias…', 'love this! go? talk makememories unplug relax iphone smartphone wifi connect...', 'wired know george way ;) iphone cute daventry home', 'amazing service! apple not talk question unless pay $19.95 stupid support!', 'iphone software update fucked big time stupid iphones', 'happy .. instapic instadaily sony xperia xperiaz', 'new type c charger cable uk … bay amazon etsy new year rob cross toby young evemun mcmafia taylor spectre 2018 newyear starting 2018 recipe technology samsunggalaxys9 iphonex pic.twitter.com/pjiwq59wtc', 'bout shopping listening music iphone justme music likeforlike followforfollow…', 'photo: fun selfie pool water sony camera picoftheday sun instagood boy cute outdoor...']\n"
     ]
    }
   ],
   "source": [
    "cleaned_tweets = list(data['tweet'].apply(tweet_cleaner_with_final_stopwords))\n",
    "print(cleaned_tweets[:10])"
   ]
  },
  {
   "cell_type": "code",
   "execution_count": 406,
   "id": "b804710d",
   "metadata": {},
   "outputs": [],
   "source": [
    "data[\"tweet_cleaner_with_final_stopwords\"]=cleaned_tweets"
   ]
  },
  {
   "cell_type": "code",
   "execution_count": 407,
   "id": "441760a5",
   "metadata": {},
   "outputs": [
    {
     "data": {
      "text/html": [
       "<div>\n",
       "<style scoped>\n",
       "    .dataframe tbody tr th:only-of-type {\n",
       "        vertical-align: middle;\n",
       "    }\n",
       "\n",
       "    .dataframe tbody tr th {\n",
       "        vertical-align: top;\n",
       "    }\n",
       "\n",
       "    .dataframe thead th {\n",
       "        text-align: right;\n",
       "    }\n",
       "</style>\n",
       "<table border=\"1\" class=\"dataframe\">\n",
       "  <thead>\n",
       "    <tr style=\"text-align: right;\">\n",
       "      <th></th>\n",
       "      <th>label</th>\n",
       "      <th>tweet</th>\n",
       "      <th>tweet_cleaner_without_stopwords</th>\n",
       "      <th>tweet_cleaner_with_stopwords</th>\n",
       "      <th>tweet_cleaner_with_final_stopwords</th>\n",
       "    </tr>\n",
       "  </thead>\n",
       "  <tbody>\n",
       "    <tr>\n",
       "      <th>0</th>\n",
       "      <td>0</td>\n",
       "      <td>#fingerprint #Pregnancy Test https://goo.gl/h1...</td>\n",
       "      <td>fingerprint pregnancy test android apps beauti...</td>\n",
       "      <td>fingerprint pregnancy test android apps beauti...</td>\n",
       "      <td>fingerprint pregnancy test android apps beauti...</td>\n",
       "    </tr>\n",
       "    <tr>\n",
       "      <th>1</th>\n",
       "      <td>0</td>\n",
       "      <td>Finally a transparant silicon case ^^ Thanks t...</td>\n",
       "      <td>finally a transparant silicon case ^^ thanks t...</td>\n",
       "      <td>finally transparant silicon case thanks uncle ...</td>\n",
       "      <td>finally transparant silicon case ^^ thanks unc...</td>\n",
       "    </tr>\n",
       "    <tr>\n",
       "      <th>2</th>\n",
       "      <td>0</td>\n",
       "      <td>We love this! Would you go? #talk #makememorie...</td>\n",
       "      <td>we love this! would you go? talk makememories ...</td>\n",
       "      <td>love talk makememories unplug relax iphone sma...</td>\n",
       "      <td>love this! go? talk makememories unplug relax ...</td>\n",
       "    </tr>\n",
       "    <tr>\n",
       "      <th>3</th>\n",
       "      <td>0</td>\n",
       "      <td>I'm wired I know I'm George I was made that wa...</td>\n",
       "      <td>i am wired i know i am george i wa made that w...</td>\n",
       "      <td>wired know george way iphone cute daventry home</td>\n",
       "      <td>wired know george way ;) iphone cute daventry ...</td>\n",
       "    </tr>\n",
       "    <tr>\n",
       "      <th>4</th>\n",
       "      <td>1</td>\n",
       "      <td>What amazing service! Apple won't even talk to...</td>\n",
       "      <td>what amazing service! apple will not even talk...</td>\n",
       "      <td>amazing service apple talk question unless pay...</td>\n",
       "      <td>amazing service! apple not talk question unles...</td>\n",
       "    </tr>\n",
       "  </tbody>\n",
       "</table>\n",
       "</div>"
      ],
      "text/plain": [
       "   label                                              tweet  \\\n",
       "0      0  #fingerprint #Pregnancy Test https://goo.gl/h1...   \n",
       "1      0  Finally a transparant silicon case ^^ Thanks t...   \n",
       "2      0  We love this! Would you go? #talk #makememorie...   \n",
       "3      0  I'm wired I know I'm George I was made that wa...   \n",
       "4      1  What amazing service! Apple won't even talk to...   \n",
       "\n",
       "                     tweet_cleaner_without_stopwords  \\\n",
       "0  fingerprint pregnancy test android apps beauti...   \n",
       "1  finally a transparant silicon case ^^ thanks t...   \n",
       "2  we love this! would you go? talk makememories ...   \n",
       "3  i am wired i know i am george i wa made that w...   \n",
       "4  what amazing service! apple will not even talk...   \n",
       "\n",
       "                        tweet_cleaner_with_stopwords  \\\n",
       "0  fingerprint pregnancy test android apps beauti...   \n",
       "1  finally transparant silicon case thanks uncle ...   \n",
       "2  love talk makememories unplug relax iphone sma...   \n",
       "3   wired know george way iphone cute daventry home    \n",
       "4  amazing service apple talk question unless pay...   \n",
       "\n",
       "                  tweet_cleaner_with_final_stopwords  \n",
       "0  fingerprint pregnancy test android apps beauti...  \n",
       "1  finally transparant silicon case ^^ thanks unc...  \n",
       "2  love this! go? talk makememories unplug relax ...  \n",
       "3  wired know george way ;) iphone cute daventry ...  \n",
       "4  amazing service! apple not talk question unles...  "
      ]
     },
     "execution_count": 407,
     "metadata": {},
     "output_type": "execute_result"
    }
   ],
   "source": [
    "data.head()"
   ]
  },
  {
   "cell_type": "code",
   "execution_count": 408,
   "id": "8107b402",
   "metadata": {},
   "outputs": [],
   "source": [
    "import matplotlib.pyplot as plt"
   ]
  },
  {
   "cell_type": "code",
   "execution_count": 409,
   "id": "4d7c80fe",
   "metadata": {},
   "outputs": [
    {
     "name": "stdout",
     "output_type": "stream",
     "text": [
      "['fingerprint', 'pregnancy', 'test', 'android', 'apps', 'beautiful', 'cute', 'health', 'igers', 'iphoneonly', 'iphonesia', 'iphone', 'finally', 'transparant', 'silicon', 'case', '^^', 'thanks', 'uncle', ':)', 'yay', 'sony', 'xperia', 'sonyexperias…', 'love', 'this!', 'go?', 'talk', 'makememories', 'unplug', 'relax', 'iphone', 'smartphone', 'wifi', 'connect...', 'wired', 'know', 'george', 'way', ';)', 'iphone', 'cute', 'daventry', 'home', 'amazing', 'service!', 'apple', 'not', 'talk', 'question']\n"
     ]
    },
    {
     "data": {
      "image/png": "[encoded data removed]",
      "text/plain": [
       "<Figure size 1200x500 with 1 Axes>"
      ]
     },
     "metadata": {},
     "output_type": "display_data"
    }
   ],
   "source": [
    "# Write the code for plotting the cleaned tweets\n",
    "all_words = []\n",
    "for t in data['tweet_cleaner_with_final_stopwords']:\n",
    "    all_words.extend(t.split())\n",
    "\n",
    "print(all_words[:50])\n",
    "\n",
    "# plotting frequency distribution without stopwords\n",
    "freq_dist = nltk.FreqDist(all_words)\n",
    "\n",
    "plt.figure(figsize=(12,5))\n",
    "plt.title('Top 25 most common words')\n",
    "plt.xticks(fontsize=15)\n",
    "\n",
    "freq_dist.plot(25, cumulative=False)\n",
    "\n",
    "plt.show()"
   ]
  },
  {
   "cell_type": "code",
   "execution_count": 410,
   "id": "c297f42a",
   "metadata": {},
   "outputs": [
    {
     "name": "stdout",
     "output_type": "stream",
     "text": [
      "['fingerprint', 'pregnancy', 'test', 'android', 'apps', 'beautiful', 'cute', 'health', 'igers', 'iphoneonly', 'iphonesia', 'iphone', 'finally', 'transparant', 'silicon', 'case', '^^', 'thanks', 'uncle', ':)', 'yay', 'sony', 'xperia', 'sonyexperias…', 'love', 'this!', 'go?', 'talk', 'makememories', 'unplug', 'relax', 'iphone', 'smartphone', 'wifi', 'connect...', 'wired', 'know', 'george', 'way', ';)', 'iphone', 'cute', 'daventry', 'home', 'amazing', 'service!', 'apple', 'not', 'talk', 'question']\n"
     ]
    },
    {
     "data": {
      "image/png": "[encoded data removed]",
      "text/plain": [
       "<Figure size 1200x500 with 1 Axes>"
      ]
     },
     "metadata": {},
     "output_type": "display_data"
    }
   ],
   "source": [
    "\n",
    "# Write the code for plotting the cleaned tweets\n",
    "all_words = []\n",
    "for t in data['tweet_cleaner_with_final_stopwords']:\n",
    "    all_words.extend(t.split())\n",
    "\n",
    "print(all_words[:50])\n",
    "\n",
    "# plotting frequency distribution with stopwords\n",
    "freq_dist = nltk.FreqDist(all_words)\n",
    "\n",
    "plt.figure(figsize=(12,5))\n",
    "plt.title('Top 25 most common words')\n",
    "plt.xticks(fontsize=15)\n",
    "\n",
    "freq_dist.plot(25, cumulative=False)\n",
    "\n",
    "plt.show()\n"
   ]
  },
  {
   "cell_type": "code",
   "execution_count": 411,
   "id": "87cb3fed",
   "metadata": {},
   "outputs": [
    {
     "data": {
      "text/plain": [
       "91401"
      ]
     },
     "execution_count": 411,
     "metadata": {},
     "output_type": "execute_result"
    }
   ],
   "source": [
    "len(all_words)"
   ]
  },
  {
   "cell_type": "code",
   "execution_count": 412,
   "id": "ff4e364e",
   "metadata": {},
   "outputs": [
    {
     "data": {
      "text/html": [
       "<div>\n",
       "<style scoped>\n",
       "    .dataframe tbody tr th:only-of-type {\n",
       "        vertical-align: middle;\n",
       "    }\n",
       "\n",
       "    .dataframe tbody tr th {\n",
       "        vertical-align: top;\n",
       "    }\n",
       "\n",
       "    .dataframe thead th {\n",
       "        text-align: right;\n",
       "    }\n",
       "</style>\n",
       "<table border=\"1\" class=\"dataframe\">\n",
       "  <thead>\n",
       "    <tr style=\"text-align: right;\">\n",
       "      <th></th>\n",
       "      <th>label</th>\n",
       "      <th>tweet</th>\n",
       "      <th>tweet_cleaner_without_stopwords</th>\n",
       "      <th>tweet_cleaner_with_stopwords</th>\n",
       "      <th>tweet_cleaner_with_final_stopwords</th>\n",
       "    </tr>\n",
       "  </thead>\n",
       "  <tbody>\n",
       "    <tr>\n",
       "      <th>0</th>\n",
       "      <td>0</td>\n",
       "      <td>#fingerprint #Pregnancy Test https://goo.gl/h1...</td>\n",
       "      <td>fingerprint pregnancy test android apps beauti...</td>\n",
       "      <td>fingerprint pregnancy test android apps beauti...</td>\n",
       "      <td>fingerprint pregnancy test android apps beauti...</td>\n",
       "    </tr>\n",
       "    <tr>\n",
       "      <th>1</th>\n",
       "      <td>0</td>\n",
       "      <td>Finally a transparant silicon case ^^ Thanks t...</td>\n",
       "      <td>finally a transparant silicon case ^^ thanks t...</td>\n",
       "      <td>finally transparant silicon case thanks uncle ...</td>\n",
       "      <td>finally transparant silicon case ^^ thanks unc...</td>\n",
       "    </tr>\n",
       "    <tr>\n",
       "      <th>2</th>\n",
       "      <td>0</td>\n",
       "      <td>We love this! Would you go? #talk #makememorie...</td>\n",
       "      <td>we love this! would you go? talk makememories ...</td>\n",
       "      <td>love talk makememories unplug relax iphone sma...</td>\n",
       "      <td>love this! go? talk makememories unplug relax ...</td>\n",
       "    </tr>\n",
       "    <tr>\n",
       "      <th>3</th>\n",
       "      <td>0</td>\n",
       "      <td>I'm wired I know I'm George I was made that wa...</td>\n",
       "      <td>i am wired i know i am george i wa made that w...</td>\n",
       "      <td>wired know george way iphone cute daventry home</td>\n",
       "      <td>wired know george way ;) iphone cute daventry ...</td>\n",
       "    </tr>\n",
       "    <tr>\n",
       "      <th>4</th>\n",
       "      <td>1</td>\n",
       "      <td>What amazing service! Apple won't even talk to...</td>\n",
       "      <td>what amazing service! apple will not even talk...</td>\n",
       "      <td>amazing service apple talk question unless pay...</td>\n",
       "      <td>amazing service! apple not talk question unles...</td>\n",
       "    </tr>\n",
       "  </tbody>\n",
       "</table>\n",
       "</div>"
      ],
      "text/plain": [
       "   label                                              tweet  \\\n",
       "0      0  #fingerprint #Pregnancy Test https://goo.gl/h1...   \n",
       "1      0  Finally a transparant silicon case ^^ Thanks t...   \n",
       "2      0  We love this! Would you go? #talk #makememorie...   \n",
       "3      0  I'm wired I know I'm George I was made that wa...   \n",
       "4      1  What amazing service! Apple won't even talk to...   \n",
       "\n",
       "                     tweet_cleaner_without_stopwords  \\\n",
       "0  fingerprint pregnancy test android apps beauti...   \n",
       "1  finally a transparant silicon case ^^ thanks t...   \n",
       "2  we love this! would you go? talk makememories ...   \n",
       "3  i am wired i know i am george i wa made that w...   \n",
       "4  what amazing service! apple will not even talk...   \n",
       "\n",
       "                        tweet_cleaner_with_stopwords  \\\n",
       "0  fingerprint pregnancy test android apps beauti...   \n",
       "1  finally transparant silicon case thanks uncle ...   \n",
       "2  love talk makememories unplug relax iphone sma...   \n",
       "3   wired know george way iphone cute daventry home    \n",
       "4  amazing service apple talk question unless pay...   \n",
       "\n",
       "                  tweet_cleaner_with_final_stopwords  \n",
       "0  fingerprint pregnancy test android apps beauti...  \n",
       "1  finally transparant silicon case ^^ thanks unc...  \n",
       "2  love this! go? talk makememories unplug relax ...  \n",
       "3  wired know george way ;) iphone cute daventry ...  \n",
       "4  amazing service! apple not talk question unles...  "
      ]
     },
     "execution_count": 412,
     "metadata": {},
     "output_type": "execute_result"
    }
   ],
   "source": [
    "data.head()"
   ]
  },
  {
   "cell_type": "code",
   "execution_count": 413,
   "id": "4dfde3d4",
   "metadata": {},
   "outputs": [
    {
     "data": {
      "text/plain": [
       "65"
      ]
     },
     "execution_count": 413,
     "metadata": {},
     "output_type": "execute_result"
    }
   ],
   "source": [
    "len(data['tweet'][5])"
   ]
  },
  {
   "cell_type": "code",
   "execution_count": 414,
   "id": "9854109b",
   "metadata": {},
   "outputs": [
    {
     "data": {
      "text/plain": [
       "66"
      ]
     },
     "execution_count": 414,
     "metadata": {},
     "output_type": "execute_result"
    }
   ],
   "source": [
    "len(data[\"tweet_cleaner_without_stopwords\"][5])"
   ]
  },
  {
   "cell_type": "code",
   "execution_count": 415,
   "id": "b39a1fa3",
   "metadata": {},
   "outputs": [
    {
     "data": {
      "text/plain": [
       "60"
      ]
     },
     "execution_count": 415,
     "metadata": {},
     "output_type": "execute_result"
    }
   ],
   "source": [
    "len(data[\"tweet_cleaner_with_stopwords\"][5])"
   ]
  },
  {
   "cell_type": "code",
   "execution_count": 416,
   "id": "9f0cb7d0",
   "metadata": {},
   "outputs": [
    {
     "data": {
      "text/plain": [
       "53"
      ]
     },
     "execution_count": 416,
     "metadata": {},
     "output_type": "execute_result"
    }
   ],
   "source": [
    "len(data[\"tweet_cleaner_with_final_stopwords\"][5])"
   ]
  },
  {
   "cell_type": "code",
   "execution_count": 417,
   "id": "fb0592c0",
   "metadata": {},
   "outputs": [
    {
     "data": {
      "text/plain": [
       "(7920, 5)"
      ]
     },
     "execution_count": 417,
     "metadata": {},
     "output_type": "execute_result"
    }
   ],
   "source": [
    "data.shape"
   ]
  },
  {
   "cell_type": "code",
   "execution_count": 418,
   "id": "ba796037",
   "metadata": {},
   "outputs": [
    {
     "data": {
      "text/plain": [
       "(7920, 16933)"
      ]
     },
     "execution_count": 418,
     "metadata": {},
     "output_type": "execute_result"
    }
   ],
   "source": [
    "from sklearn.feature_extraction.text import CountVectorizer\n",
    "cv=CountVectorizer()\n",
    "cv_features=cv.fit_transform(data['tweet_cleaner_with_final_stopwords'])\n",
    "cv_features.shape"
   ]
  },
  {
   "cell_type": "code",
   "execution_count": 419,
   "id": "f21cb566",
   "metadata": {},
   "outputs": [],
   "source": [
    "import pandas as pd \n",
    "df=pd.DataFrame(cv_features.todense())"
   ]
  },
  {
   "cell_type": "code",
   "execution_count": 420,
   "id": "172a8ef5",
   "metadata": {},
   "outputs": [
    {
     "data": {
      "text/html": [
       "<div>\n",
       "<style scoped>\n",
       "    .dataframe tbody tr th:only-of-type {\n",
       "        vertical-align: middle;\n",
       "    }\n",
       "\n",
       "    .dataframe tbody tr th {\n",
       "        vertical-align: top;\n",
       "    }\n",
       "\n",
       "    .dataframe thead th {\n",
       "        text-align: right;\n",
       "    }\n",
       "</style>\n",
       "<table border=\"1\" class=\"dataframe\">\n",
       "  <thead>\n",
       "    <tr style=\"text-align: right;\">\n",
       "      <th></th>\n",
       "      <th>0</th>\n",
       "      <th>1</th>\n",
       "      <th>2</th>\n",
       "      <th>3</th>\n",
       "      <th>4</th>\n",
       "      <th>5</th>\n",
       "      <th>6</th>\n",
       "      <th>7</th>\n",
       "      <th>8</th>\n",
       "      <th>9</th>\n",
       "      <th>...</th>\n",
       "      <th>16923</th>\n",
       "      <th>16924</th>\n",
       "      <th>16925</th>\n",
       "      <th>16926</th>\n",
       "      <th>16927</th>\n",
       "      <th>16928</th>\n",
       "      <th>16929</th>\n",
       "      <th>16930</th>\n",
       "      <th>16931</th>\n",
       "      <th>16932</th>\n",
       "    </tr>\n",
       "  </thead>\n",
       "  <tbody>\n",
       "    <tr>\n",
       "      <th>0</th>\n",
       "      <td>0</td>\n",
       "      <td>0</td>\n",
       "      <td>0</td>\n",
       "      <td>0</td>\n",
       "      <td>0</td>\n",
       "      <td>0</td>\n",
       "      <td>0</td>\n",
       "      <td>0</td>\n",
       "      <td>0</td>\n",
       "      <td>0</td>\n",
       "      <td>...</td>\n",
       "      <td>0</td>\n",
       "      <td>0</td>\n",
       "      <td>0</td>\n",
       "      <td>0</td>\n",
       "      <td>0</td>\n",
       "      <td>0</td>\n",
       "      <td>0</td>\n",
       "      <td>0</td>\n",
       "      <td>0</td>\n",
       "      <td>0</td>\n",
       "    </tr>\n",
       "    <tr>\n",
       "      <th>1</th>\n",
       "      <td>0</td>\n",
       "      <td>0</td>\n",
       "      <td>0</td>\n",
       "      <td>0</td>\n",
       "      <td>0</td>\n",
       "      <td>0</td>\n",
       "      <td>0</td>\n",
       "      <td>0</td>\n",
       "      <td>0</td>\n",
       "      <td>0</td>\n",
       "      <td>...</td>\n",
       "      <td>0</td>\n",
       "      <td>0</td>\n",
       "      <td>0</td>\n",
       "      <td>0</td>\n",
       "      <td>0</td>\n",
       "      <td>0</td>\n",
       "      <td>0</td>\n",
       "      <td>0</td>\n",
       "      <td>0</td>\n",
       "      <td>0</td>\n",
       "    </tr>\n",
       "    <tr>\n",
       "      <th>2</th>\n",
       "      <td>0</td>\n",
       "      <td>0</td>\n",
       "      <td>0</td>\n",
       "      <td>0</td>\n",
       "      <td>0</td>\n",
       "      <td>0</td>\n",
       "      <td>0</td>\n",
       "      <td>0</td>\n",
       "      <td>0</td>\n",
       "      <td>0</td>\n",
       "      <td>...</td>\n",
       "      <td>0</td>\n",
       "      <td>0</td>\n",
       "      <td>0</td>\n",
       "      <td>0</td>\n",
       "      <td>0</td>\n",
       "      <td>0</td>\n",
       "      <td>0</td>\n",
       "      <td>0</td>\n",
       "      <td>0</td>\n",
       "      <td>0</td>\n",
       "    </tr>\n",
       "    <tr>\n",
       "      <th>3</th>\n",
       "      <td>0</td>\n",
       "      <td>0</td>\n",
       "      <td>0</td>\n",
       "      <td>0</td>\n",
       "      <td>0</td>\n",
       "      <td>0</td>\n",
       "      <td>0</td>\n",
       "      <td>0</td>\n",
       "      <td>0</td>\n",
       "      <td>0</td>\n",
       "      <td>...</td>\n",
       "      <td>0</td>\n",
       "      <td>0</td>\n",
       "      <td>0</td>\n",
       "      <td>0</td>\n",
       "      <td>0</td>\n",
       "      <td>0</td>\n",
       "      <td>0</td>\n",
       "      <td>0</td>\n",
       "      <td>0</td>\n",
       "      <td>0</td>\n",
       "    </tr>\n",
       "    <tr>\n",
       "      <th>4</th>\n",
       "      <td>0</td>\n",
       "      <td>0</td>\n",
       "      <td>0</td>\n",
       "      <td>0</td>\n",
       "      <td>0</td>\n",
       "      <td>0</td>\n",
       "      <td>0</td>\n",
       "      <td>0</td>\n",
       "      <td>0</td>\n",
       "      <td>0</td>\n",
       "      <td>...</td>\n",
       "      <td>0</td>\n",
       "      <td>0</td>\n",
       "      <td>0</td>\n",
       "      <td>0</td>\n",
       "      <td>0</td>\n",
       "      <td>0</td>\n",
       "      <td>0</td>\n",
       "      <td>0</td>\n",
       "      <td>0</td>\n",
       "      <td>0</td>\n",
       "    </tr>\n",
       "    <tr>\n",
       "      <th>...</th>\n",
       "      <td>...</td>\n",
       "      <td>...</td>\n",
       "      <td>...</td>\n",
       "      <td>...</td>\n",
       "      <td>...</td>\n",
       "      <td>...</td>\n",
       "      <td>...</td>\n",
       "      <td>...</td>\n",
       "      <td>...</td>\n",
       "      <td>...</td>\n",
       "      <td>...</td>\n",
       "      <td>...</td>\n",
       "      <td>...</td>\n",
       "      <td>...</td>\n",
       "      <td>...</td>\n",
       "      <td>...</td>\n",
       "      <td>...</td>\n",
       "      <td>...</td>\n",
       "      <td>...</td>\n",
       "      <td>...</td>\n",
       "      <td>...</td>\n",
       "    </tr>\n",
       "    <tr>\n",
       "      <th>7915</th>\n",
       "      <td>0</td>\n",
       "      <td>0</td>\n",
       "      <td>0</td>\n",
       "      <td>0</td>\n",
       "      <td>0</td>\n",
       "      <td>0</td>\n",
       "      <td>0</td>\n",
       "      <td>0</td>\n",
       "      <td>0</td>\n",
       "      <td>0</td>\n",
       "      <td>...</td>\n",
       "      <td>0</td>\n",
       "      <td>0</td>\n",
       "      <td>0</td>\n",
       "      <td>0</td>\n",
       "      <td>0</td>\n",
       "      <td>0</td>\n",
       "      <td>0</td>\n",
       "      <td>0</td>\n",
       "      <td>0</td>\n",
       "      <td>0</td>\n",
       "    </tr>\n",
       "    <tr>\n",
       "      <th>7916</th>\n",
       "      <td>0</td>\n",
       "      <td>0</td>\n",
       "      <td>0</td>\n",
       "      <td>0</td>\n",
       "      <td>0</td>\n",
       "      <td>0</td>\n",
       "      <td>0</td>\n",
       "      <td>0</td>\n",
       "      <td>0</td>\n",
       "      <td>0</td>\n",
       "      <td>...</td>\n",
       "      <td>0</td>\n",
       "      <td>0</td>\n",
       "      <td>0</td>\n",
       "      <td>0</td>\n",
       "      <td>0</td>\n",
       "      <td>0</td>\n",
       "      <td>0</td>\n",
       "      <td>0</td>\n",
       "      <td>0</td>\n",
       "      <td>0</td>\n",
       "    </tr>\n",
       "    <tr>\n",
       "      <th>7917</th>\n",
       "      <td>0</td>\n",
       "      <td>0</td>\n",
       "      <td>0</td>\n",
       "      <td>0</td>\n",
       "      <td>0</td>\n",
       "      <td>0</td>\n",
       "      <td>0</td>\n",
       "      <td>0</td>\n",
       "      <td>0</td>\n",
       "      <td>0</td>\n",
       "      <td>...</td>\n",
       "      <td>0</td>\n",
       "      <td>0</td>\n",
       "      <td>0</td>\n",
       "      <td>0</td>\n",
       "      <td>0</td>\n",
       "      <td>0</td>\n",
       "      <td>0</td>\n",
       "      <td>0</td>\n",
       "      <td>0</td>\n",
       "      <td>0</td>\n",
       "    </tr>\n",
       "    <tr>\n",
       "      <th>7918</th>\n",
       "      <td>0</td>\n",
       "      <td>0</td>\n",
       "      <td>0</td>\n",
       "      <td>0</td>\n",
       "      <td>0</td>\n",
       "      <td>0</td>\n",
       "      <td>0</td>\n",
       "      <td>0</td>\n",
       "      <td>0</td>\n",
       "      <td>0</td>\n",
       "      <td>...</td>\n",
       "      <td>0</td>\n",
       "      <td>0</td>\n",
       "      <td>0</td>\n",
       "      <td>0</td>\n",
       "      <td>0</td>\n",
       "      <td>0</td>\n",
       "      <td>0</td>\n",
       "      <td>0</td>\n",
       "      <td>0</td>\n",
       "      <td>0</td>\n",
       "    </tr>\n",
       "    <tr>\n",
       "      <th>7919</th>\n",
       "      <td>0</td>\n",
       "      <td>0</td>\n",
       "      <td>0</td>\n",
       "      <td>0</td>\n",
       "      <td>0</td>\n",
       "      <td>0</td>\n",
       "      <td>0</td>\n",
       "      <td>0</td>\n",
       "      <td>0</td>\n",
       "      <td>0</td>\n",
       "      <td>...</td>\n",
       "      <td>0</td>\n",
       "      <td>0</td>\n",
       "      <td>0</td>\n",
       "      <td>0</td>\n",
       "      <td>0</td>\n",
       "      <td>0</td>\n",
       "      <td>0</td>\n",
       "      <td>0</td>\n",
       "      <td>0</td>\n",
       "      <td>0</td>\n",
       "    </tr>\n",
       "  </tbody>\n",
       "</table>\n",
       "<p>7920 rows × 16933 columns</p>\n",
       "</div>"
      ],
      "text/plain": [
       "      0      1      2      3      4      5      6      7      8      9      \\\n",
       "0         0      0      0      0      0      0      0      0      0      0   \n",
       "1         0      0      0      0      0      0      0      0      0      0   \n",
       "2         0      0      0      0      0      0      0      0      0      0   \n",
       "3         0      0      0      0      0      0      0      0      0      0   \n",
       "4         0      0      0      0      0      0      0      0      0      0   \n",
       "...     ...    ...    ...    ...    ...    ...    ...    ...    ...    ...   \n",
       "7915      0      0      0      0      0      0      0      0      0      0   \n",
       "7916      0      0      0      0      0      0      0      0      0      0   \n",
       "7917      0      0      0      0      0      0      0      0      0      0   \n",
       "7918      0      0      0      0      0      0      0      0      0      0   \n",
       "7919      0      0      0      0      0      0      0      0      0      0   \n",
       "\n",
       "      ...  16923  16924  16925  16926  16927  16928  16929  16930  16931  \\\n",
       "0     ...      0      0      0      0      0      0      0      0      0   \n",
       "1     ...      0      0      0      0      0      0      0      0      0   \n",
       "2     ...      0      0      0      0      0      0      0      0      0   \n",
       "3     ...      0      0      0      0      0      0      0      0      0   \n",
       "4     ...      0      0      0      0      0      0      0      0      0   \n",
       "...   ...    ...    ...    ...    ...    ...    ...    ...    ...    ...   \n",
       "7915  ...      0      0      0      0      0      0      0      0      0   \n",
       "7916  ...      0      0      0      0      0      0      0      0      0   \n",
       "7917  ...      0      0      0      0      0      0      0      0      0   \n",
       "7918  ...      0      0      0      0      0      0      0      0      0   \n",
       "7919  ...      0      0      0      0      0      0      0      0      0   \n",
       "\n",
       "      16932  \n",
       "0         0  \n",
       "1         0  \n",
       "2         0  \n",
       "3         0  \n",
       "4         0  \n",
       "...     ...  \n",
       "7915      0  \n",
       "7916      0  \n",
       "7917      0  \n",
       "7918      0  \n",
       "7919      0  \n",
       "\n",
       "[7920 rows x 16933 columns]"
      ]
     },
     "execution_count": 420,
     "metadata": {},
     "output_type": "execute_result"
    }
   ],
   "source": [
    "df # this shows that the data frame is sparse matrix"
   ]
  },
  {
   "cell_type": "code",
   "execution_count": 421,
   "id": "d4ecd94e",
   "metadata": {},
   "outputs": [
    {
     "data": {
      "text/plain": [
       "85760"
      ]
     },
     "execution_count": 421,
     "metadata": {},
     "output_type": "execute_result"
    }
   ],
   "source": [
    "# checking non zero elements\n",
    "import numpy as np \n",
    "non_zeroes=np.count_nonzero(df)\n",
    "non_zeroes"
   ]
  },
  {
   "cell_type": "code",
   "execution_count": 422,
   "id": "6df2ef9d",
   "metadata": {},
   "outputs": [
    {
     "data": {
      "text/plain": [
       "39600"
      ]
     },
     "execution_count": 422,
     "metadata": {},
     "output_type": "execute_result"
    }
   ],
   "source": [
    "total_elements=data.size # total number of elements\n",
    "total_elements"
   ]
  },
  {
   "cell_type": "code",
   "execution_count": 423,
   "id": "e7db998d",
   "metadata": {},
   "outputs": [
    {
     "data": {
      "text/plain": [
       "216.56565656565658"
      ]
     },
     "execution_count": 423,
     "metadata": {},
     "output_type": "execute_result"
    }
   ],
   "source": [
    "# percent of the non-zero elements in the df\n",
    "non_zeroes/total_elements*100"
   ]
  },
  {
   "cell_type": "code",
   "execution_count": 424,
   "id": "416de304",
   "metadata": {},
   "outputs": [],
   "source": [
    "from sklearn.model_selection import train_test_split\n",
    "x_train,x_test,y_train,y_test=train_test_split(cv_features,data['label'],test_size=0.25,stratify=data['label'],random_state=42)"
   ]
  },
  {
   "cell_type": "code",
   "execution_count": 425,
   "id": "73a28098",
   "metadata": {},
   "outputs": [
    {
     "name": "stdout",
     "output_type": "stream",
     "text": [
      "0.8966329966329967\n",
      "0.8691919191919192\n"
     ]
    }
   ],
   "source": [
    "from sklearn.linear_model import LogisticRegression\n",
    "LR1=LogisticRegression(class_weight=\"balanced\",solver=\"liblinear\",penalty=\"l1\",C=0.5)\n",
    "LR1.fit(x_train,y_train)\n",
    "print(LR1.score(x_train,y_train))\n",
    "print(LR1.score(x_test,y_test))"
   ]
  },
  {
   "cell_type": "code",
   "execution_count": 426,
   "id": "69733b72",
   "metadata": {},
   "outputs": [],
   "source": [
    "from sklearn.model_selection import cross_val_score\n",
    "from sklearn.model_selection import StratifiedKFold\n",
    "kfold=StratifiedKFold(n_splits=5,shuffle=True,random_state=42)"
   ]
  },
  {
   "cell_type": "code",
   "execution_count": 427,
   "id": "b2e044a6",
   "metadata": {},
   "outputs": [],
   "source": [
    "x=cv_features\n",
    "y=data['label']"
   ]
  },
  {
   "cell_type": "code",
   "execution_count": 428,
   "id": "4bbad05f",
   "metadata": {},
   "outputs": [
    {
     "name": "stdout",
     "output_type": "stream",
     "text": [
      "[0.87689394 0.87058081 0.87121212 0.88005051 0.88068182]\n",
      "87.59 0.43\n"
     ]
    }
   ],
   "source": [
    "results=cross_val_score(LR1,x,y,cv=kfold,scoring=\"accuracy\")\n",
    "print(results)\n",
    "print(np.round((results.mean())*100,2),np.round((results.std())*100,2))"
   ]
  },
  {
   "cell_type": "code",
   "execution_count": 429,
   "id": "b8d4029b",
   "metadata": {},
   "outputs": [
    {
     "data": {
      "text/plain": [
       "'hacker wifi password android apps beautiful cute color igers iphoneonly iphone'"
      ]
     },
     "execution_count": 429,
     "metadata": {},
     "output_type": "execute_result"
    }
   ],
   "source": [
    "data['tweet_cleaner_with_final_stopwords'][156]"
   ]
  },
  {
   "cell_type": "code",
   "execution_count": 430,
   "id": "0de67942",
   "metadata": {},
   "outputs": [
    {
     "data": {
      "text/plain": [
       "'new york baby ;) new york amazing city big apple summer'"
      ]
     },
     "execution_count": 430,
     "metadata": {},
     "output_type": "execute_result"
    }
   ],
   "source": [
    "data['tweet_cleaner_with_final_stopwords'][186]"
   ]
  },
  {
   "cell_type": "code",
   "execution_count": 431,
   "id": "41e6e401",
   "metadata": {},
   "outputs": [
    {
     "data": {
      "text/plain": [
       "'iphone software update fucked big time stupid iphones'"
      ]
     },
     "execution_count": 431,
     "metadata": {},
     "output_type": "execute_result"
    }
   ],
   "source": [
    "data['tweet_cleaner_with_final_stopwords'][5]"
   ]
  },
  {
   "cell_type": "code",
   "execution_count": 432,
   "id": "f63a402e",
   "metadata": {},
   "outputs": [
    {
     "data": {
      "text/plain": [
       "0"
      ]
     },
     "execution_count": 432,
     "metadata": {},
     "output_type": "execute_result"
    }
   ],
   "source": [
    "data[\"label\"][156]"
   ]
  },
  {
   "cell_type": "code",
   "execution_count": 433,
   "id": "f2255525",
   "metadata": {},
   "outputs": [],
   "source": [
    "import joblib"
   ]
  },
  {
   "cell_type": "code",
   "execution_count": 434,
   "id": "9bae6145",
   "metadata": {},
   "outputs": [
    {
     "data": {
      "text/plain": [
       "['tfidf_vectorizer.pkl']"
      ]
     },
     "execution_count": 434,
     "metadata": {},
     "output_type": "execute_result"
    }
   ],
   "source": [
    "# Save the trained model and vectorizer\n",
    "joblib.dump(LR1, \"sentiment_model.pkl\")\n",
    "joblib.dump(cv, \"tfidf_vectorizer.pkl\")"
   ]
  },
  {
   "cell_type": "code",
   "execution_count": 435,
   "id": "825fd31c",
   "metadata": {},
   "outputs": [],
   "source": [
    "import pickle"
   ]
  },
  {
   "cell_type": "code",
   "execution_count": 436,
   "id": "9b628092",
   "metadata": {},
   "outputs": [],
   "source": [
    "# loading our trained model \n",
    "loaded_model=pickle.load(open('trained_model.sav','rb'))"
   ]
  },
  {
   "cell_type": "code",
   "execution_count": 437,
   "id": "12d27176",
   "metadata": {},
   "outputs": [],
   "source": [
    "def prediction(comment):\n",
    "    preprocessed_comment = tweet_cleaner_with_final_stopwords(comment)\n",
    "    comment_list = [preprocessed_comment]  # Wrap the preprocessed comment in a list\n",
    "    comment_vector = cv.transform(comment_list)\n",
    "    prediction = LR1.predict(comment_vector)[0]\n",
    "    return prediction\n"
   ]
  },
  {
   "cell_type": "code",
   "execution_count": 438,
   "id": "a2925098",
   "metadata": {},
   "outputs": [],
   "source": [
    "prediction_label = prediction(\"Got a surprise gift from a friend today. Small gestures like this make life so beautiful! 🎁😊 #FeelingBlessed\")"
   ]
  },
  {
   "cell_type": "code",
   "execution_count": 439,
   "id": "62cc7ed7",
   "metadata": {},
   "outputs": [
    {
     "name": "stdout",
     "output_type": "stream",
     "text": [
      "positive comment\n"
     ]
    }
   ],
   "source": [
    "if prediction_label == 0:\n",
    "    print(\"positive comment\")\n",
    "else:\n",
    "    print(\"negative comment\")\n",
    "    "
   ]
  }
 ],
 "metadata": {
  "kernelspec": {
   "display_name": "Python 3 (ipykernel)",
   "language": "python",
   "name": "python3"
  },
  "language_info": {
   "codemirror_mode": {
    "name": "ipython",
    "version": 3
   },
   "file_extension": ".py",
   "mimetype": "text/x-python",
   "name": "python",
   "nbconvert_exporter": "python",
   "pygments_lexer": "ipython3",
   "version": "3.12.0"
  },
  "widgets": {
   "application/vnd.jupyter.widget-state+json": {
    "state": {},
    "version_major": 2,
    "version_minor": 0
   }
  }
 },
 "nbformat": 4,
 "nbformat_minor": 5
}
